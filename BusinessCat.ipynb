{
 "cells": [
  {
   "cell_type": "markdown",
   "metadata": {},
   "source": [
    "# CSE6242 Project\n",
    "## Main Idea:\n",
    "1.Given **business X attributes** and **business X categories**matrix, more generally categorize each business using **k means**.\n",
    "\n",
    "2.Use users' reviews on business to determine their preference by:\n",
    "    $\\rightarrow$Calculate each user's average normalized ratings for each category;\n",
    "    $\\rightarrow$Create a final **user X categories** matrix with ratings."
   ]
  },
  {
   "cell_type": "code",
   "execution_count": 1,
   "metadata": {
    "collapsed": false
   },
   "outputs": [],
   "source": [
    "import pandas as pd\n",
    "import numpy as np\n",
    "import scipy.sparse as sp\n",
    "import csv\n",
    "from tqdm import tqdm"
   ]
  },
  {
   "cell_type": "code",
   "execution_count": 2,
   "metadata": {
    "collapsed": true
   },
   "outputs": [],
   "source": [
    "def sparse_matrix (base_type=float):\n",
    "    from collections import defaultdict\n",
    "    return defaultdict (lambda: defaultdict (base_type))"
   ]
  },
  {
   "cell_type": "markdown",
   "metadata": {},
   "source": [
    "## Part1. Data Cleaning"
   ]
  },
  {
   "cell_type": "markdown",
   "metadata": {},
   "source": [
    "### 1.Clean business_attributes data"
   ]
  },
  {
   "cell_type": "code",
   "execution_count": 3,
   "metadata": {
    "collapsed": true
   },
   "outputs": [],
   "source": [
    "b_attr_org = pd.read_csv('~/desktop/gatech/cse6242/project/data_sorted/business_attributes.csv', low_memory = False)"
   ]
  },
  {
   "cell_type": "code",
   "execution_count": 4,
   "metadata": {
    "collapsed": true
   },
   "outputs": [],
   "source": [
    "#rearrange the format of DataFrame\n",
    "b_attr_all = b_attr_org.drop('Unnamed: 0', 1)\n",
    "b_attr_all.set_index('BusinessID', inplace = True)\n",
    "del b_attr_all.index.name"
   ]
  },
  {
   "cell_type": "code",
   "execution_count": 5,
   "metadata": {
    "collapsed": true
   },
   "outputs": [],
   "source": [
    "#try to find valid attributes\n",
    "#b_attr.notnull().sum().to_csv(path = '~/desktop/gatech/cse6242/project/data_sorted/business_attrs_valid.csv')\n",
    "#attrs_valid = b_attr.notnull().sum().to_frame(name = 'notnull_freq')\n",
    "#attrs_valid.sort_values(by = 'notnull_freq', ascending = False)\n",
    "#attrs_valid.loc[attrs_valid['notnull_freq'] >= 10000].index.tolist()"
   ]
  },
  {
   "cell_type": "code",
   "execution_count": 6,
   "metadata": {
    "collapsed": false
   },
   "outputs": [],
   "source": [
    "#choose valid attributes as columns\n",
    "b_Ambience = b_attr_all[['Ambience.casual','Ambience.romantic', 'Ambience.trendy',\n",
    "                     'Ambience.touristy', 'Ambience.classy', 'Ambience.intimate', \n",
    "                    'Ambience.hipster', 'Ambience.upscale', 'Ambience.divey']]\n",
    "#drop rows with only missing values and fill NaN value with 0.5\n",
    "b_Ambience_valid = b_Ambience.dropna(how='all').copy()\n",
    "b_Ambience_valid = b_Ambience_valid.fillna(0.5)\n",
    "#convert 'T' 'F' to 0,1\n",
    "b_Ambience_valid= b_Ambience_valid.astype(float)\n",
    "\n",
    "#only consider the columns 'Ambience.casual','Ambience.romantic', 'Ambience.trendy' as our largest groups for ambience\n",
    "large_attr = ['Ambience.casual','Ambience.romantic', 'Ambience.trendy']"
   ]
  },
  {
   "cell_type": "markdown",
   "metadata": {
    "collapsed": false
   },
   "source": [
    "### 2.Clean business_categories data"
   ]
  },
  {
   "cell_type": "code",
   "execution_count": 7,
   "metadata": {
    "collapsed": true
   },
   "outputs": [],
   "source": [
    "b_cat_org = pd.read_csv ('~/desktop/gatech/cse6242/project/data_sorted/business_category.csv',low_memory = False)"
   ]
  },
  {
   "cell_type": "code",
   "execution_count": 8,
   "metadata": {
    "collapsed": true
   },
   "outputs": [],
   "source": [
    "#rearrange the format of DataFrame business_cat\n",
    "b_cat_all = b_cat_org.drop(['Unnamed: 0','Restaurants','Food'], 1)\n",
    "b_cat_all.set_index('business_id', inplace = True)\n",
    "del b_cat_all.index.name"
   ]
  },
  {
   "cell_type": "code",
   "execution_count": 9,
   "metadata": {
    "collapsed": false
   },
   "outputs": [
    {
     "data": {
      "text/plain": [
       "26729"
      ]
     },
     "execution_count": 9,
     "metadata": {},
     "output_type": "execute_result"
    }
   ],
   "source": [
    "len(b_cat_org)"
   ]
  },
  {
   "cell_type": "code",
   "execution_count": 10,
   "metadata": {
    "collapsed": true
   },
   "outputs": [],
   "source": [
    "b_cat_valid = b_cat_all.dropna(how='all').copy()\n",
    "#convert 'T' 'F' to 0,1\n",
    "b_cat_valid = b_cat_valid.astype(float)\n",
    "\n",
    "#determine the freq table\n",
    "b_cat_freq = (b_cat_valid==1).sum()\n",
    "\n",
    "#only consider the columns that has freq>500 as our largest groups\n",
    "large_cat = b_cat_freq[b_cat_freq>500].keys().tolist()"
   ]
  },
  {
   "cell_type": "markdown",
   "metadata": {},
   "source": [
    "## Part2. Generalize Categories By K means(???)"
   ]
  },
  {
   "cell_type": "markdown",
   "metadata": {},
   "source": [
    "### 1.Define **kmeans** function to generalize categories to specific large category."
   ]
  },
  {
   "cell_type": "code",
   "execution_count": 11,
   "metadata": {
    "collapsed": false
   },
   "outputs": [],
   "source": [
    "from collections import defaultdict\n",
    "def kmeans(df,generalized_cat):\n",
    "    nrow = df.shape[0]\n",
    "    ncol = df.shape[1]\n",
    "\n",
    "    #create a dictionary to store {col[i]:(large_col[j],similarity degree)}\n",
    "    degree = defaultdict(float)\n",
    "    #create the sparse matrix based on the raw matrix b_Ambience_valid above\n",
    "    df_spm = sp.csr_matrix(df.values)\n",
    "    #create b_attrs transpose matrix\n",
    "    df_T = df.T\n",
    "    \n",
    "    #calculate degree matrix\n",
    "    for i in range(ncol):\n",
    "        degree_i = 0.0 #initialize col i degree\n",
    "        #large_col are the 3 columns that we are going to generalize other columns to:casual, romantic, trendy\n",
    "        for j in range(len(generalized_cat)):\n",
    "            #for each category i, find the dot product value with main category j\n",
    "            df_j = sp.csr_matrix(df_T.loc[generalized_cat[j]:generalized_cat[j]])\n",
    "            #calculate columns i degree on each columns in large_col\n",
    "            degree_j = df_j*df_spm[:,i]     \n",
    "            #store the value only if it is the largest one\n",
    "            if degree_j.nnz!=0:\n",
    "                if degree_j.data[0] > degree_i:\n",
    "                    #assign the nearest mail column for i and its degree\n",
    "                    degree[df.columns[i]]=(generalized_cat[j],degree_j.data[0]) \n",
    "                    degree_i = degree_j.data[0] #update degree_i with bigger value\n",
    "        #check if there is no degree found, assign it 0.0 \n",
    "        if degree_i == 0.0:\n",
    "            degree[df.columns[i]]=(df.columns[i],0.0)\n",
    "            \n",
    "    df_copy = df.copy()\n",
    "    #Replace the attr name in following form: \n",
    "    # (original attr, generalized attr)\n",
    "    for i in range(ncol):\n",
    "        df_copy.rename(columns={df_copy.columns[i]:df_copy.columns[i]+','+degree[df_copy.columns[i]][0]},inplace=True)\n",
    "\n",
    "    #drop the categories that has degree == 0 (not belongs to any large group)\n",
    "    for i in df_copy.columns:\n",
    "        if i.split(',')[1] not in generalized_cat:\n",
    "            df_copy.drop(i,1,inplace=True)\n",
    "            \n",
    "    spm_gnr = sparse_matrix()\n",
    "\n",
    "    #for each business, get it's generalized attribute if exists\n",
    "    for i in range(df_copy.shape[0]):\n",
    "        for j in range(df_copy.shape[1]):\n",
    "            if df_copy[df_copy.columns[j]].iloc[i]!=0:\n",
    "                j_attr = df_copy.columns[j].split(',')[1]\n",
    "                spm_gnr[df_copy.index[i]][j_attr] =+ df_copy[df_copy.columns[j]].iloc[i]\n",
    "    \n",
    "    return spm_gnr"
   ]
  },
  {
   "cell_type": "markdown",
   "metadata": {},
   "source": [
    "### 2.Create the **business X category_attr** sparese matrix for further steps."
   ]
  },
  {
   "cell_type": "markdown",
   "metadata": {},
   "source": [
    "#### Create the **business X general_attr** sparese matrix for further steps."
   ]
  },
  {
   "cell_type": "code",
   "execution_count": 12,
   "metadata": {
    "collapsed": false
   },
   "outputs": [],
   "source": [
    "b_attr_gnr = kmeans(b_Ambience_valid,large_attr)"
   ]
  },
  {
   "cell_type": "markdown",
   "metadata": {},
   "source": [
    "#### Create the **business X category_attr** sparese matrix for further steps."
   ]
  },
  {
   "cell_type": "code",
   "execution_count": 13,
   "metadata": {
    "collapsed": false
   },
   "outputs": [],
   "source": [
    "B_cat_spm = sparse_matrix()\n",
    "nrow = b_cat_valid.shape[0]\n",
    "ncol = b_cat_valid.shape[1]\n",
    "b_cat_copy = b_cat_valid.copy()\n",
    "\n",
    "#for each business, get it's category if exists\n",
    "for i in range(nrow):\n",
    "    for j in range(ncol):\n",
    "        if b_cat_copy[b_cat_copy.columns[j]].iloc[i]==1.0:\n",
    "            j_cat = b_cat_copy.columns[j]\n",
    "            B_cat_spm[b_cat_copy.index[i]][j_cat] =+ 1.0"
   ]
  },
  {
   "cell_type": "code",
   "execution_count": 14,
   "metadata": {
    "collapsed": false
   },
   "outputs": [],
   "source": [
    "# Combine business X general_attr and business_category sparse matrix to \n",
    "# create the **business X category_attr** sparese matrix\n",
    "busicat_attr_T = sparse_matrix()\n",
    "for ambience_k,ambience_v in b_attr_gnr.items():\n",
    "    for category_k, category_v in B_cat_spm.items():\n",
    "        if ambience_k == category_k:\n",
    "            for x in list(category_v):\n",
    "                for a in list(ambience_v):\n",
    "                    category_v[x] +=  ambience_v[a]\n",
    "                    category_v[x +\"_\"+ a] =  category_v.pop(x)\n",
    "                    busicat_attr_T.update({category_k: category_v})"
   ]
  },
  {
   "cell_type": "code",
   "execution_count": 15,
   "metadata": {
    "collapsed": false
   },
   "outputs": [],
   "source": [
    "busicat_attr = pd.DataFrame(busicat_attr_T).T"
   ]
  },
  {
   "cell_type": "code",
   "execution_count": 16,
   "metadata": {
    "collapsed": false
   },
   "outputs": [],
   "source": [
    "#drop rows with only missing values and fill NaN value with 0\n",
    "busicat_attr_copy = busicat_attr.dropna(how=\"all\").copy()\n",
    "busicat_attr_copy = busicat_attr_copy.fillna(0)"
   ]
  },
  {
   "cell_type": "markdown",
   "metadata": {},
   "source": [
    "### 3.Create the business X generalized category_attr sparese matrix for further steps"
   ]
  },
  {
   "cell_type": "code",
   "execution_count": 17,
   "metadata": {
    "collapsed": false
   },
   "outputs": [],
   "source": [
    "#Set the generalized categories we want\n",
    "large_cat_attr = []\n",
    "\n",
    "for i in large_cat:\n",
    "    large_cat_attr.append(i+ \"_Ambience.casual\")\n",
    "    large_cat_attr.append(i+ \"_Ambience.romantic\")\n",
    "    large_cat_attr.append(i+ \"_Ambience.trendy\")"
   ]
  },
  {
   "cell_type": "code",
   "execution_count": 18,
   "metadata": {
    "collapsed": false
   },
   "outputs": [],
   "source": [
    "busicat_attr_gnr = pd.DataFrame(kmeans(busicat_attr_copy,large_cat_attr)).T"
   ]
  },
  {
   "cell_type": "code",
   "execution_count": 19,
   "metadata": {
    "collapsed": false
   },
   "outputs": [],
   "source": [
    "busicat_attr_gnr = busicat_attr_gnr.dropna(thresh = 1)\n",
    "Business_catattr = busicat_attr_gnr.notnull().astype('int')\n",
    "Business_catattr = Business_catattr.replace(0, np.NaN)"
   ]
  },
  {
   "cell_type": "markdown",
   "metadata": {
    "collapsed": true
   },
   "source": [
    "## Part3. Integrate \"Reviews\" with Big Categories\n",
    "Given **\"reviews.csv\"** file and business X category_attr matrix derived above, determine each user's preference by calculating the average normalized ratings for each category."
   ]
  },
  {
   "cell_type": "code",
   "execution_count": 20,
   "metadata": {
    "collapsed": false
   },
   "outputs": [],
   "source": [
    "#reviews = pd.read_csv('~/desktop/gatech/cse6242/project/data_sorted/merged_reviews_users.csv', low_memory = False)\n",
    "all_reviews = pd.read_csv('~/desktop/gatech/cse6242/project/data_sorted/merged_all_reviews.csv', low_memory = False)"
   ]
  },
  {
   "cell_type": "code",
   "execution_count": 21,
   "metadata": {
    "collapsed": false
   },
   "outputs": [],
   "source": [
    "#rearrange the format of DataFrame reviews\n",
    "reviews_all = all_reviews.drop('Unnamed: 0',1)\n",
    "#retrieve columns that we need only\n",
    "reviews_sub = reviews_all[['BusinessID','UserID','UserName',\n",
    "                      'Avg_user_rating','rating']]"
   ]
  },
  {
   "cell_type": "code",
   "execution_count": 22,
   "metadata": {
    "collapsed": false
   },
   "outputs": [
    {
     "data": {
      "text/html": [
       "<div>\n",
       "<table border=\"1\" class=\"dataframe\">\n",
       "  <thead>\n",
       "    <tr style=\"text-align: right;\">\n",
       "      <th></th>\n",
       "      <th>BusinessID</th>\n",
       "      <th>UserID</th>\n",
       "      <th>UserName</th>\n",
       "      <th>Avg_user_rating</th>\n",
       "      <th>rating</th>\n",
       "    </tr>\n",
       "  </thead>\n",
       "  <tbody>\n",
       "    <tr>\n",
       "      <th>0</th>\n",
       "      <td>__etvGuL2dh_a1LOT0gNYQ</td>\n",
       "      <td>FczdrDVX94FdHJ7Y4JZrWA</td>\n",
       "      <td>Christopher_102</td>\n",
       "      <td>3.15</td>\n",
       "      <td>4</td>\n",
       "    </tr>\n",
       "    <tr>\n",
       "      <th>1</th>\n",
       "      <td>__etvGuL2dh_a1LOT0gNYQ</td>\n",
       "      <td>8EyiYlKUMdJsQD3sA-fAjA</td>\n",
       "      <td>Patricia_79</td>\n",
       "      <td>4.07</td>\n",
       "      <td>5</td>\n",
       "    </tr>\n",
       "    <tr>\n",
       "      <th>2</th>\n",
       "      <td>__etvGuL2dh_a1LOT0gNYQ</td>\n",
       "      <td>nP2HH7Qe5UtSsjeEH3NZuQ</td>\n",
       "      <td>Elena_9</td>\n",
       "      <td>4.06</td>\n",
       "      <td>4</td>\n",
       "    </tr>\n",
       "    <tr>\n",
       "      <th>3</th>\n",
       "      <td>__etvGuL2dh_a1LOT0gNYQ</td>\n",
       "      <td>NqcLDh324mINcicHKspQaA</td>\n",
       "      <td>pj_1</td>\n",
       "      <td>3.10</td>\n",
       "      <td>5</td>\n",
       "    </tr>\n",
       "    <tr>\n",
       "      <th>4</th>\n",
       "      <td>__etvGuL2dh_a1LOT0gNYQ</td>\n",
       "      <td>tFyQbNbBQEyEc9oCr1pJUg</td>\n",
       "      <td>Marshall_9</td>\n",
       "      <td>4.30</td>\n",
       "      <td>5</td>\n",
       "    </tr>\n",
       "  </tbody>\n",
       "</table>\n",
       "</div>"
      ],
      "text/plain": [
       "               BusinessID                  UserID         UserName  \\\n",
       "0  __etvGuL2dh_a1LOT0gNYQ  FczdrDVX94FdHJ7Y4JZrWA  Christopher_102   \n",
       "1  __etvGuL2dh_a1LOT0gNYQ  8EyiYlKUMdJsQD3sA-fAjA      Patricia_79   \n",
       "2  __etvGuL2dh_a1LOT0gNYQ  nP2HH7Qe5UtSsjeEH3NZuQ          Elena_9   \n",
       "3  __etvGuL2dh_a1LOT0gNYQ  NqcLDh324mINcicHKspQaA             pj_1   \n",
       "4  __etvGuL2dh_a1LOT0gNYQ  tFyQbNbBQEyEc9oCr1pJUg       Marshall_9   \n",
       "\n",
       "   Avg_user_rating  rating  \n",
       "0             3.15       4  \n",
       "1             4.07       5  \n",
       "2             4.06       4  \n",
       "3             3.10       5  \n",
       "4             4.30       5  "
      ]
     },
     "execution_count": 22,
     "metadata": {},
     "output_type": "execute_result"
    }
   ],
   "source": [
    "reviews_sub.head()"
   ]
  },
  {
   "cell_type": "code",
   "execution_count": 43,
   "metadata": {
    "collapsed": false
   },
   "outputs": [],
   "source": [
    "Business_catattr.to_csv(path_or_buf = '~/desktop/gatech/cse6242/project/Business_catattr.csv')"
   ]
  },
  {
   "cell_type": "code",
   "execution_count": 24,
   "metadata": {
    "collapsed": false
   },
   "outputs": [
    {
     "data": {
      "text/plain": [
       "8975"
      ]
     },
     "execution_count": 24,
     "metadata": {},
     "output_type": "execute_result"
    }
   ],
   "source": [
    "len(reviews_sub[\"BusinessID\"].unique())"
   ]
  },
  {
   "cell_type": "code",
   "execution_count": 25,
   "metadata": {
    "collapsed": false
   },
   "outputs": [
    {
     "data": {
      "text/plain": [
       "526280"
      ]
     },
     "execution_count": 25,
     "metadata": {},
     "output_type": "execute_result"
    }
   ],
   "source": [
    "reviews_cat_joined= reviews_sub.join(Business_catattr,on ='BusinessID', how='left')\n",
    "len(reviews_cat_joined)"
   ]
  },
  {
   "cell_type": "code",
   "execution_count": 26,
   "metadata": {
    "collapsed": false
   },
   "outputs": [
    {
     "data": {
      "text/plain": [
       "516526"
      ]
     },
     "execution_count": 26,
     "metadata": {},
     "output_type": "execute_result"
    }
   ],
   "source": [
    "#drop rows with all NA ratings\n",
    "reviews_cat_joined_copy = reviews_cat_joined.dropna(thresh=6).copy()\n",
    "len(reviews_cat_joined_copy)"
   ]
  },
  {
   "cell_type": "code",
   "execution_count": 27,
   "metadata": {
    "collapsed": false
   },
   "outputs": [],
   "source": [
    "col = reviews_cat_joined_copy.columns.values.tolist()\n",
    "cat = col[5:] #get the columns name for all categories"
   ]
  },
  {
   "cell_type": "code",
   "execution_count": 28,
   "metadata": {
    "collapsed": true
   },
   "outputs": [],
   "source": [
    "#Now put each user's rating to corresponding categories\n",
    "for i in cat:\n",
    "    #for each category, if 1, times with rating and normalize \n",
    "    reviews_cat_joined_copy[i]=reviews_cat_joined_copy['rating']*reviews_cat_joined_copy[i]"
   ]
  },
  {
   "cell_type": "code",
   "execution_count": 29,
   "metadata": {
    "collapsed": false
   },
   "outputs": [
    {
     "data": {
      "text/html": [
       "<div>\n",
       "<table border=\"1\" class=\"dataframe\">\n",
       "  <thead>\n",
       "    <tr style=\"text-align: right;\">\n",
       "      <th></th>\n",
       "      <th>BusinessID</th>\n",
       "      <th>UserID</th>\n",
       "      <th>UserName</th>\n",
       "      <th>Avg_user_rating</th>\n",
       "      <th>rating</th>\n",
       "      <th>American (New)_Ambience.casual</th>\n",
       "      <th>American (New)_Ambience.romantic</th>\n",
       "      <th>American (New)_Ambience.trendy</th>\n",
       "      <th>American (Traditional)_Ambience.casual</th>\n",
       "      <th>American (Traditional)_Ambience.romantic</th>\n",
       "      <th>...</th>\n",
       "      <th>Seafood_Ambience.trendy</th>\n",
       "      <th>Steakhouses_Ambience.casual</th>\n",
       "      <th>Steakhouses_Ambience.romantic</th>\n",
       "      <th>Steakhouses_Ambience.trendy</th>\n",
       "      <th>Sushi Bars_Ambience.casual</th>\n",
       "      <th>Sushi Bars_Ambience.romantic</th>\n",
       "      <th>Sushi Bars_Ambience.trendy</th>\n",
       "      <th>Thai_Ambience.casual</th>\n",
       "      <th>Thai_Ambience.romantic</th>\n",
       "      <th>Thai_Ambience.trendy</th>\n",
       "    </tr>\n",
       "  </thead>\n",
       "  <tbody>\n",
       "    <tr>\n",
       "      <th>0</th>\n",
       "      <td>__etvGuL2dh_a1LOT0gNYQ</td>\n",
       "      <td>FczdrDVX94FdHJ7Y4JZrWA</td>\n",
       "      <td>Christopher_102</td>\n",
       "      <td>3.15</td>\n",
       "      <td>4</td>\n",
       "      <td>NaN</td>\n",
       "      <td>NaN</td>\n",
       "      <td>NaN</td>\n",
       "      <td>4.0</td>\n",
       "      <td>NaN</td>\n",
       "      <td>...</td>\n",
       "      <td>NaN</td>\n",
       "      <td>NaN</td>\n",
       "      <td>NaN</td>\n",
       "      <td>NaN</td>\n",
       "      <td>NaN</td>\n",
       "      <td>NaN</td>\n",
       "      <td>NaN</td>\n",
       "      <td>NaN</td>\n",
       "      <td>NaN</td>\n",
       "      <td>NaN</td>\n",
       "    </tr>\n",
       "    <tr>\n",
       "      <th>1</th>\n",
       "      <td>__etvGuL2dh_a1LOT0gNYQ</td>\n",
       "      <td>8EyiYlKUMdJsQD3sA-fAjA</td>\n",
       "      <td>Patricia_79</td>\n",
       "      <td>4.07</td>\n",
       "      <td>5</td>\n",
       "      <td>NaN</td>\n",
       "      <td>NaN</td>\n",
       "      <td>NaN</td>\n",
       "      <td>5.0</td>\n",
       "      <td>NaN</td>\n",
       "      <td>...</td>\n",
       "      <td>NaN</td>\n",
       "      <td>NaN</td>\n",
       "      <td>NaN</td>\n",
       "      <td>NaN</td>\n",
       "      <td>NaN</td>\n",
       "      <td>NaN</td>\n",
       "      <td>NaN</td>\n",
       "      <td>NaN</td>\n",
       "      <td>NaN</td>\n",
       "      <td>NaN</td>\n",
       "    </tr>\n",
       "    <tr>\n",
       "      <th>2</th>\n",
       "      <td>__etvGuL2dh_a1LOT0gNYQ</td>\n",
       "      <td>nP2HH7Qe5UtSsjeEH3NZuQ</td>\n",
       "      <td>Elena_9</td>\n",
       "      <td>4.06</td>\n",
       "      <td>4</td>\n",
       "      <td>NaN</td>\n",
       "      <td>NaN</td>\n",
       "      <td>NaN</td>\n",
       "      <td>4.0</td>\n",
       "      <td>NaN</td>\n",
       "      <td>...</td>\n",
       "      <td>NaN</td>\n",
       "      <td>NaN</td>\n",
       "      <td>NaN</td>\n",
       "      <td>NaN</td>\n",
       "      <td>NaN</td>\n",
       "      <td>NaN</td>\n",
       "      <td>NaN</td>\n",
       "      <td>NaN</td>\n",
       "      <td>NaN</td>\n",
       "      <td>NaN</td>\n",
       "    </tr>\n",
       "    <tr>\n",
       "      <th>3</th>\n",
       "      <td>__etvGuL2dh_a1LOT0gNYQ</td>\n",
       "      <td>NqcLDh324mINcicHKspQaA</td>\n",
       "      <td>pj_1</td>\n",
       "      <td>3.10</td>\n",
       "      <td>5</td>\n",
       "      <td>NaN</td>\n",
       "      <td>NaN</td>\n",
       "      <td>NaN</td>\n",
       "      <td>5.0</td>\n",
       "      <td>NaN</td>\n",
       "      <td>...</td>\n",
       "      <td>NaN</td>\n",
       "      <td>NaN</td>\n",
       "      <td>NaN</td>\n",
       "      <td>NaN</td>\n",
       "      <td>NaN</td>\n",
       "      <td>NaN</td>\n",
       "      <td>NaN</td>\n",
       "      <td>NaN</td>\n",
       "      <td>NaN</td>\n",
       "      <td>NaN</td>\n",
       "    </tr>\n",
       "    <tr>\n",
       "      <th>4</th>\n",
       "      <td>__etvGuL2dh_a1LOT0gNYQ</td>\n",
       "      <td>tFyQbNbBQEyEc9oCr1pJUg</td>\n",
       "      <td>Marshall_9</td>\n",
       "      <td>4.30</td>\n",
       "      <td>5</td>\n",
       "      <td>NaN</td>\n",
       "      <td>NaN</td>\n",
       "      <td>NaN</td>\n",
       "      <td>5.0</td>\n",
       "      <td>NaN</td>\n",
       "      <td>...</td>\n",
       "      <td>NaN</td>\n",
       "      <td>NaN</td>\n",
       "      <td>NaN</td>\n",
       "      <td>NaN</td>\n",
       "      <td>NaN</td>\n",
       "      <td>NaN</td>\n",
       "      <td>NaN</td>\n",
       "      <td>NaN</td>\n",
       "      <td>NaN</td>\n",
       "      <td>NaN</td>\n",
       "    </tr>\n",
       "  </tbody>\n",
       "</table>\n",
       "<p>5 rows × 78 columns</p>\n",
       "</div>"
      ],
      "text/plain": [
       "               BusinessID                  UserID         UserName  \\\n",
       "0  __etvGuL2dh_a1LOT0gNYQ  FczdrDVX94FdHJ7Y4JZrWA  Christopher_102   \n",
       "1  __etvGuL2dh_a1LOT0gNYQ  8EyiYlKUMdJsQD3sA-fAjA      Patricia_79   \n",
       "2  __etvGuL2dh_a1LOT0gNYQ  nP2HH7Qe5UtSsjeEH3NZuQ          Elena_9   \n",
       "3  __etvGuL2dh_a1LOT0gNYQ  NqcLDh324mINcicHKspQaA             pj_1   \n",
       "4  __etvGuL2dh_a1LOT0gNYQ  tFyQbNbBQEyEc9oCr1pJUg       Marshall_9   \n",
       "\n",
       "   Avg_user_rating  rating  American (New)_Ambience.casual  \\\n",
       "0             3.15       4                             NaN   \n",
       "1             4.07       5                             NaN   \n",
       "2             4.06       4                             NaN   \n",
       "3             3.10       5                             NaN   \n",
       "4             4.30       5                             NaN   \n",
       "\n",
       "   American (New)_Ambience.romantic  American (New)_Ambience.trendy  \\\n",
       "0                               NaN                             NaN   \n",
       "1                               NaN                             NaN   \n",
       "2                               NaN                             NaN   \n",
       "3                               NaN                             NaN   \n",
       "4                               NaN                             NaN   \n",
       "\n",
       "   American (Traditional)_Ambience.casual  \\\n",
       "0                                     4.0   \n",
       "1                                     5.0   \n",
       "2                                     4.0   \n",
       "3                                     5.0   \n",
       "4                                     5.0   \n",
       "\n",
       "   American (Traditional)_Ambience.romantic          ...           \\\n",
       "0                                       NaN          ...            \n",
       "1                                       NaN          ...            \n",
       "2                                       NaN          ...            \n",
       "3                                       NaN          ...            \n",
       "4                                       NaN          ...            \n",
       "\n",
       "   Seafood_Ambience.trendy  Steakhouses_Ambience.casual  \\\n",
       "0                      NaN                          NaN   \n",
       "1                      NaN                          NaN   \n",
       "2                      NaN                          NaN   \n",
       "3                      NaN                          NaN   \n",
       "4                      NaN                          NaN   \n",
       "\n",
       "   Steakhouses_Ambience.romantic  Steakhouses_Ambience.trendy  \\\n",
       "0                            NaN                          NaN   \n",
       "1                            NaN                          NaN   \n",
       "2                            NaN                          NaN   \n",
       "3                            NaN                          NaN   \n",
       "4                            NaN                          NaN   \n",
       "\n",
       "   Sushi Bars_Ambience.casual  Sushi Bars_Ambience.romantic  \\\n",
       "0                         NaN                           NaN   \n",
       "1                         NaN                           NaN   \n",
       "2                         NaN                           NaN   \n",
       "3                         NaN                           NaN   \n",
       "4                         NaN                           NaN   \n",
       "\n",
       "   Sushi Bars_Ambience.trendy  Thai_Ambience.casual  Thai_Ambience.romantic  \\\n",
       "0                         NaN                   NaN                     NaN   \n",
       "1                         NaN                   NaN                     NaN   \n",
       "2                         NaN                   NaN                     NaN   \n",
       "3                         NaN                   NaN                     NaN   \n",
       "4                         NaN                   NaN                     NaN   \n",
       "\n",
       "   Thai_Ambience.trendy  \n",
       "0                   NaN  \n",
       "1                   NaN  \n",
       "2                   NaN  \n",
       "3                   NaN  \n",
       "4                   NaN  \n",
       "\n",
       "[5 rows x 78 columns]"
      ]
     },
     "execution_count": 29,
     "metadata": {},
     "output_type": "execute_result"
    }
   ],
   "source": [
    "reviews_cat_joined_copy.head()"
   ]
  },
  {
   "cell_type": "code",
   "execution_count": 30,
   "metadata": {
    "collapsed": false
   },
   "outputs": [],
   "source": [
    "#Since UserName and UserID are both unique, we only keep one of them.\n",
    "user_rating = reviews_cat_joined_copy[reviews_cat_joined_copy.columns[2:]]\n",
    "user_rating.reset_index(level=None, drop=True, inplace=True)"
   ]
  },
  {
   "cell_type": "code",
   "execution_count": 31,
   "metadata": {
    "collapsed": true
   },
   "outputs": [],
   "source": [
    "user_rating_copy = user_rating.copy()"
   ]
  },
  {
   "cell_type": "code",
   "execution_count": 32,
   "metadata": {
    "collapsed": false
   },
   "outputs": [],
   "source": [
    "#Now calculate each user's average rating for each category\n",
    "User_Avg_cat = pd.DataFrame()\n",
    "col_list = user_rating_copy.columns[3:].tolist()\n",
    "User_Avg_cat = user_rating_copy.groupby('UserName')[col_list].mean()"
   ]
  },
  {
   "cell_type": "code",
   "execution_count": 33,
   "metadata": {
    "collapsed": false
   },
   "outputs": [
    {
     "data": {
      "text/plain": [
       "18772"
      ]
     },
     "execution_count": 33,
     "metadata": {},
     "output_type": "execute_result"
    }
   ],
   "source": [
    "len(User_Avg_cat)"
   ]
  },
  {
   "cell_type": "code",
   "execution_count": 34,
   "metadata": {
    "collapsed": false
   },
   "outputs": [],
   "source": [
    "User_avg_inter = user_rating_copy[user_rating_copy.columns[:2]]\n",
    "User_Avg= User_avg_inter.join(User_Avg_cat,on ='UserName', how='left')"
   ]
  },
  {
   "cell_type": "code",
   "execution_count": 35,
   "metadata": {
    "collapsed": false
   },
   "outputs": [],
   "source": [
    "User_Avg.drop_duplicates(subset = 'UserName', inplace = True)"
   ]
  },
  {
   "cell_type": "code",
   "execution_count": 36,
   "metadata": {
    "collapsed": false,
    "scrolled": true
   },
   "outputs": [
    {
     "data": {
      "text/html": [
       "<div>\n",
       "<table border=\"1\" class=\"dataframe\">\n",
       "  <thead>\n",
       "    <tr style=\"text-align: right;\">\n",
       "      <th></th>\n",
       "      <th>UserName</th>\n",
       "      <th>Avg_user_rating</th>\n",
       "      <th>American (New)_Ambience.casual</th>\n",
       "      <th>American (New)_Ambience.romantic</th>\n",
       "      <th>American (New)_Ambience.trendy</th>\n",
       "      <th>American (Traditional)_Ambience.casual</th>\n",
       "      <th>American (Traditional)_Ambience.romantic</th>\n",
       "      <th>American (Traditional)_Ambience.trendy</th>\n",
       "      <th>Asian Fusion_Ambience.casual</th>\n",
       "      <th>Asian Fusion_Ambience.romantic</th>\n",
       "      <th>...</th>\n",
       "      <th>Seafood_Ambience.trendy</th>\n",
       "      <th>Steakhouses_Ambience.casual</th>\n",
       "      <th>Steakhouses_Ambience.romantic</th>\n",
       "      <th>Steakhouses_Ambience.trendy</th>\n",
       "      <th>Sushi Bars_Ambience.casual</th>\n",
       "      <th>Sushi Bars_Ambience.romantic</th>\n",
       "      <th>Sushi Bars_Ambience.trendy</th>\n",
       "      <th>Thai_Ambience.casual</th>\n",
       "      <th>Thai_Ambience.romantic</th>\n",
       "      <th>Thai_Ambience.trendy</th>\n",
       "    </tr>\n",
       "  </thead>\n",
       "  <tbody>\n",
       "    <tr>\n",
       "      <th>0</th>\n",
       "      <td>Christopher_102</td>\n",
       "      <td>3.15</td>\n",
       "      <td>1.0</td>\n",
       "      <td>NaN</td>\n",
       "      <td>NaN</td>\n",
       "      <td>3.5</td>\n",
       "      <td>NaN</td>\n",
       "      <td>2.0</td>\n",
       "      <td>NaN</td>\n",
       "      <td>NaN</td>\n",
       "      <td>...</td>\n",
       "      <td>NaN</td>\n",
       "      <td>NaN</td>\n",
       "      <td>NaN</td>\n",
       "      <td>NaN</td>\n",
       "      <td>NaN</td>\n",
       "      <td>NaN</td>\n",
       "      <td>NaN</td>\n",
       "      <td>NaN</td>\n",
       "      <td>NaN</td>\n",
       "      <td>NaN</td>\n",
       "    </tr>\n",
       "  </tbody>\n",
       "</table>\n",
       "<p>1 rows × 75 columns</p>\n",
       "</div>"
      ],
      "text/plain": [
       "          UserName  Avg_user_rating  American (New)_Ambience.casual  \\\n",
       "0  Christopher_102             3.15                             1.0   \n",
       "\n",
       "   American (New)_Ambience.romantic  American (New)_Ambience.trendy  \\\n",
       "0                               NaN                             NaN   \n",
       "\n",
       "   American (Traditional)_Ambience.casual  \\\n",
       "0                                     3.5   \n",
       "\n",
       "   American (Traditional)_Ambience.romantic  \\\n",
       "0                                       NaN   \n",
       "\n",
       "   American (Traditional)_Ambience.trendy  Asian Fusion_Ambience.casual  \\\n",
       "0                                     2.0                           NaN   \n",
       "\n",
       "   Asian Fusion_Ambience.romantic          ...           \\\n",
       "0                             NaN          ...            \n",
       "\n",
       "   Seafood_Ambience.trendy  Steakhouses_Ambience.casual  \\\n",
       "0                      NaN                          NaN   \n",
       "\n",
       "   Steakhouses_Ambience.romantic  Steakhouses_Ambience.trendy  \\\n",
       "0                            NaN                          NaN   \n",
       "\n",
       "   Sushi Bars_Ambience.casual  Sushi Bars_Ambience.romantic  \\\n",
       "0                         NaN                           NaN   \n",
       "\n",
       "   Sushi Bars_Ambience.trendy  Thai_Ambience.casual  Thai_Ambience.romantic  \\\n",
       "0                         NaN                   NaN                     NaN   \n",
       "\n",
       "   Thai_Ambience.trendy  \n",
       "0                   NaN  \n",
       "\n",
       "[1 rows x 75 columns]"
      ]
     },
     "execution_count": 36,
     "metadata": {},
     "output_type": "execute_result"
    }
   ],
   "source": [
    "User_Avg.loc[User_Avg['UserName'] =='Christopher_102']"
   ]
  },
  {
   "cell_type": "code",
   "execution_count": 37,
   "metadata": {
    "collapsed": false
   },
   "outputs": [],
   "source": [
    "#Now, for each category's rating, normalize by substract that user's average rating\n",
    "user_avg = User_Avg.copy()\n",
    "avg = user_avg.columns[2:]\n",
    "for i in avg:  \n",
    "    user_avg[i] = User_Avg[i]-User_Avg['Avg_user_rating'] \n",
    "user_avg.drop('Avg_user_rating',1,inplace=True)\n",
    "user_avg = user_avg.round(2)"
   ]
  },
  {
   "cell_type": "code",
   "execution_count": 38,
   "metadata": {
    "collapsed": false
   },
   "outputs": [],
   "source": [
    "user_avg_busi = user_avg.set_index('UserName', drop=True, inplace=False)\n",
    "del user_avg_busi.index.name"
   ]
  },
  {
   "cell_type": "code",
   "execution_count": 44,
   "metadata": {
    "collapsed": true
   },
   "outputs": [],
   "source": [
    "#Busi_X_User = sparse_matrix()"
   ]
  },
  {
   "cell_type": "code",
   "execution_count": 45,
   "metadata": {
    "collapsed": false
   },
   "outputs": [],
   "source": [
    "#for i in tqdm(Business_catattr.index.tolist()):\n",
    "#    for j in user_avg_busi.T.columns.tolist():\n",
    "#        Busi_X_User[i][j] = user_avg_busi.T[j].multiply(Business_catattr.loc[i]).mean()"
   ]
  },
  {
   "cell_type": "markdown",
   "metadata": {
    "collapsed": false
   },
   "source": [
    "## Part4. Predict User's Rating On Categories w/o Rating Info"
   ]
  },
  {
   "cell_type": "code",
   "execution_count": null,
   "metadata": {
    "collapsed": true
   },
   "outputs": [],
   "source": []
  },
  {
   "cell_type": "code",
   "execution_count": null,
   "metadata": {
    "collapsed": true
   },
   "outputs": [],
   "source": []
  }
 ],
 "metadata": {
  "anaconda-cloud": {},
  "kernelspec": {
   "display_name": "Python [Root]",
   "language": "python",
   "name": "Python [Root]"
  },
  "language_info": {
   "codemirror_mode": {
    "name": "ipython",
    "version": 3
   },
   "file_extension": ".py",
   "mimetype": "text/x-python",
   "name": "python",
   "nbconvert_exporter": "python",
   "pygments_lexer": "ipython3",
   "version": "3.5.2"
  }
 },
 "nbformat": 4,
 "nbformat_minor": 0
}
