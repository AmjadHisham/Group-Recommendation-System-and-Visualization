{
 "cells": [
  {
   "cell_type": "markdown",
   "metadata": {},
   "source": [
    "# CSE6242 Project\n",
    "### Main Idea:\n",
    "1.Given **business X categories** matrix, more generally categorize each business using **KNN**.\n",
    "\n",
    "2.Use users' reviews on business to determine their preference by:\n",
    "    $\\rightarrow$Calculate each user's average normalized ratings for each category;\n",
    "    $\\rightarrow$Create a final **user X categories** matrix with ratings."
   ]
  },
  {
   "cell_type": "code",
   "execution_count": 1,
   "metadata": {
    "collapsed": false
   },
   "outputs": [],
   "source": [
    "import pandas as pd\n",
    "import numpy as np\n",
    "import scipy.sparse as sp\n",
    "b_cat = pd.read_csv('business_category.csv')"
   ]
  },
  {
   "cell_type": "markdown",
   "metadata": {},
   "source": [
    "### Part1. Data Cleaning"
   ]
  },
  {
   "cell_type": "code",
   "execution_count": 2,
   "metadata": {
    "collapsed": false
   },
   "outputs": [],
   "source": [
    "#drop the column 'Restaurants'\n",
    "b_cat.drop(['Restaurants','Food'],1, inplace=True)\n",
    "b_copy = b_cat.copy()\n",
    "\n",
    "#convert 'T' 'F' to 0,1\n",
    "b_copy[b_copy.columns[2:]] = b_copy[b_copy.columns[2:]].astype(float)\n",
    "#determine the freq table\n",
    "b_cat_freq = (b_copy==1).sum()[2:]"
   ]
  },
  {
   "cell_type": "code",
   "execution_count": 3,
   "metadata": {
    "collapsed": true
   },
   "outputs": [],
   "source": [
    "def sparse_matrix (base_type=float):\n",
    "    from collections import defaultdict\n",
    "    return defaultdict (lambda: defaultdict (base_type))"
   ]
  },
  {
   "cell_type": "code",
   "execution_count": 4,
   "metadata": {
    "collapsed": false
   },
   "outputs": [],
   "source": [
    "#only consider the columns that has freq>500 as our largest groups\n",
    "large_col = b_cat_freq[b_cat_freq>500].keys().tolist()\n",
    "\n",
    "#create the sparse matrix based on the raw matrix b_copy above\n",
    "B = sp.csr_matrix(b_copy[b_copy.columns[2:]].values)"
   ]
  },
  {
   "cell_type": "markdown",
   "metadata": {},
   "source": [
    "### Part2. Generalize Categories By KNN"
   ]
  },
  {
   "cell_type": "code",
   "execution_count": 5,
   "metadata": {
    "collapsed": false
   },
   "outputs": [],
   "source": [
    "from collections import defaultdict\n",
    "nrow = B.shape[0]\n",
    "ncol = B.shape[1]\n",
    "#create a dictionary to store {col[i]:(large_col[j],similarity degree)}\n",
    "degree = defaultdict(float)\n",
    "b_T = b_copy[b_copy.columns[2:]].transpose()\n",
    "\n",
    "for i in range(ncol):\n",
    "    degree_i = 0.0 #initialize\n",
    "    for j in range(len(large_col)):\n",
    "        #for each category i, find the dot product value with main category j\n",
    "        bj = sp.csr_matrix(b_T.loc[large_col[j]:large_col[j]])\n",
    "        degree_j = bj*B[:,i]\n",
    "        \n",
    "        #store the value only if it is greater than all previuos\n",
    "        #-->get max degree\n",
    "        if (degree_j.nnz!=0):   \n",
    "            if (degree_j.data[0]>degree_i):\n",
    "                degree[b_copy.columns[i+2]]=(large_col[j],degree_j.data[0])\n",
    "                degree_i = degree_j.data[0]\n",
    "                \n",
    "    #check if there is no degree found, assign it 0.0 \n",
    "    if (degree_i == 0.0):\n",
    "        degree[b_copy.columns[i+2]]=(b_copy.columns[i+2],0.0)"
   ]
  },
  {
   "cell_type": "markdown",
   "metadata": {},
   "source": [
    "Store the **business X (orig_cat,general_cat)** matrix as b as record."
   ]
  },
  {
   "cell_type": "code",
   "execution_count": 46,
   "metadata": {
    "collapsed": false
   },
   "outputs": [
    {
     "data": {
      "text/plain": [
       "['American (New)',\n",
       " 'American (Traditional)',\n",
       " 'Bars',\n",
       " 'Breakfast & Brunch',\n",
       " 'Burgers',\n",
       " 'Cafes',\n",
       " 'Chicken Wings',\n",
       " 'Chinese',\n",
       " 'Fast Food',\n",
       " 'Italian',\n",
       " 'Japanese',\n",
       " 'Mexican',\n",
       " 'Nightlife',\n",
       " 'Pizza',\n",
       " 'Sandwiches',\n",
       " 'Seafood',\n",
       " 'Sports Bars',\n",
       " 'Steakhouses',\n",
       " 'Sushi Bars']"
      ]
     },
     "execution_count": 46,
     "metadata": {},
     "output_type": "execute_result"
    }
   ],
   "source": [
    "#test only\n",
    "b_cat.columns[50:100]\n",
    "#degree['Chicken Shop']\n",
    "#large_col"
   ]
  },
  {
   "cell_type": "code",
   "execution_count": 6,
   "metadata": {
    "collapsed": false
   },
   "outputs": [],
   "source": [
    "b = b_copy.copy()\n",
    "\n",
    "#Replace the category name in following form: \n",
    "    # (original category, generalized category)\n",
    "for i in range(ncol):\n",
    "    b.rename(columns={b.columns[i+2]:b.columns[i+2]+','+degree[b.columns[i+2]][0]},inplace=True)\n",
    "\n",
    "#drop the categories that has degree == 0 (not belongs to any large group)\n",
    "for i in b.columns[2:]:\n",
    "    if i.split(',')[1] not in large_col:\n",
    "        b.drop(i,1,inplace=True)\n",
    "    "
   ]
  },
  {
   "cell_type": "markdown",
   "metadata": {},
   "source": [
    "Create the **business X general_category** sparese matrix for further steps."
   ]
  },
  {
   "cell_type": "code",
   "execution_count": 7,
   "metadata": {
    "collapsed": false
   },
   "outputs": [],
   "source": [
    "C = sparse_matrix()\n",
    "\n",
    "#for each business, get it's generalized category if exists\n",
    "for i in range(nrow):\n",
    "    for j in range(2,b.shape[1]):\n",
    "        if (b[b.columns[j]].iloc[i]==1):\n",
    "            j_cat = b.columns[j].split(',')[1]\n",
    "            C[b[b.columns[1]].iloc[i]][j_cat] =+ 1\n",
    "        "
   ]
  },
  {
   "cell_type": "code",
   "execution_count": 8,
   "metadata": {
    "collapsed": false
   },
   "outputs": [
    {
     "data": {
      "text/plain": [
       "defaultdict(float, {'American (Traditional)': 1, 'Bars': 1, 'Nightlife': 1})"
      ]
     },
     "execution_count": 8,
     "metadata": {},
     "output_type": "execute_result"
    }
   ],
   "source": [
    "C['__etvGuL2dh_a1LOT0gNYQ']"
   ]
  },
  {
   "cell_type": "markdown",
   "metadata": {},
   "source": [
    "### Part3. Integrate \"Reviews\" with Big Categories\n",
    "Given **\"reviews.csv\"** file and business X categories matrix derived above, determine each user's preference by calculating the average normalized ratings for each category."
   ]
  },
  {
   "cell_type": "code",
   "execution_count": null,
   "metadata": {
    "collapsed": false
   },
   "outputs": [],
   "source": [
    "reviews = pd.read_csv('merged_all_reviews.csv')"
   ]
  },
  {
   "cell_type": "code",
   "execution_count": null,
   "metadata": {
    "collapsed": false
   },
   "outputs": [],
   "source": [
    "#add one column 'Category' with each business's list of large category\n",
    "reviews['Category'] = [C[x] for x in reviews['BusinessID']]\n",
    "\n",
    "#extract each user's collection of reviews with ratings\n",
    "#First, create a user*category matrix\n",
    "U_Re_Cat = defaultdict(list)\n",
    "\n",
    "\n",
    "row = reviews.shape[0] \n",
    "users = reviews['UserID'].unique()\n",
    "\n",
    "for i in range(row):\n",
    "    for user in users:\n",
    "        if (reviews['UserID'].iloc[i]==user):\n",
    "            U_Re_Cat[user].append(reviews['Category'].iloc[i])\n",
    "        \n",
    "        "
   ]
  },
  {
   "cell_type": "code",
   "execution_count": null,
   "metadata": {
    "collapsed": false
   },
   "outputs": [],
   "source": [
    "#create a user*category matrix\n",
    "U_C = sparse_matrix()\n",
    "for user in users:\n",
    "    for \n",
    "    U_C[user][]"
   ]
  },
  {
   "cell_type": "code",
   "execution_count": null,
   "metadata": {
    "collapsed": true
   },
   "outputs": [],
   "source": []
  }
 ],
 "metadata": {
  "anaconda-cloud": {},
  "kernelspec": {
   "display_name": "Python [Root]",
   "language": "python",
   "name": "Python [Root]"
  },
  "language_info": {
   "codemirror_mode": {
    "name": "ipython",
    "version": 3
   },
   "file_extension": ".py",
   "mimetype": "text/x-python",
   "name": "python",
   "nbconvert_exporter": "python",
   "pygments_lexer": "ipython3",
   "version": "3.5.2"
  }
 },
 "nbformat": 4,
 "nbformat_minor": 0
}
